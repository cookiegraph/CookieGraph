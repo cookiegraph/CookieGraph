{
 "cells": [
  {
   "cell_type": "code",
   "execution_count": 2,
   "id": "enormous-rebate",
   "metadata": {},
   "outputs": [],
   "source": [
    "import pandas as pd\n",
    "import os\n",
    "from sklearn.metrics import confusion_matrix\n",
    "import json\n",
    "from urllib.parse import urlparse, urljoin"
   ]
  },
  {
   "cell_type": "code",
   "execution_count": 3,
   "id": "unable-haven",
   "metadata": {},
   "outputs": [],
   "source": [
    "#Read labels from folder\n",
    "LABEL_FOLDER = \"labels_run5\"\n",
    "df = pd.DataFrame()\n",
    "fnames = os.listdir(LABEL_FOLDER)\n",
    "for fname in fnames:\n",
    "    fpath = os.path.join(LABEL_FOLDER, fname)\n",
    "    df_file = pd.read_csv(fpath)\n",
    "    df = df.append(df_file)"
   ]
  },
  {
   "cell_type": "code",
   "execution_count": 4,
   "id": "timely-pantyhose",
   "metadata": {},
   "outputs": [],
   "source": [
    "#Logging to pickle format\n",
    "df.to_pickle(\"oldlabels.pkl\")"
   ]
  },
  {
   "cell_type": "markdown",
   "id": "gross-exploration",
   "metadata": {},
   "source": [
    "# Label analysis\n",
    "\n",
    "We perform a comparison of the varios methods used for labelling:\n",
    "\n",
    "1. Setter scripts\n",
    "2. Cookiepedia\n",
    "3. Our method (combination)\n",
    "\n",
    "First, we get some overall statistics on the dataset. Then, we remove null values and get their distributions."
   ]
  },
  {
   "cell_type": "code",
   "execution_count": 5,
   "id": "naked-indiana",
   "metadata": {},
   "outputs": [
    {
     "name": "stdout",
     "output_type": "stream",
     "text": [
      "Number of sites: 8072\n",
      "Number of cookies: 130841\n"
     ]
    }
   ],
   "source": [
    "print(\"Number of sites:\", len(df['visit_id'].unique()))\n",
    "df = df[df['name'].notnull()]\n",
    "print(\"Number of cookies:\", len(df))"
   ]
  },
  {
   "cell_type": "code",
   "execution_count": 6,
   "id": "suspended-parameter",
   "metadata": {},
   "outputs": [
    {
     "name": "stdout",
     "output_type": "stream",
     "text": [
      "Non-null labels 130841\n",
      "Non-null Setter labels: 125793 96.14188213174769 %\n",
      "Non-null Cookiepedia labels: 2875 2.197323468943221 %\n"
     ]
    }
   ],
   "source": [
    "print(\"Non-null labels\", len(df))\n",
    "print(\"Non-null Setter labels:\", len(df[df['setter_label'].notnull()]), len(df[df['setter_label'].notnull()])/len(df) * 100, \"%\")\n",
    "print(\"Non-null Cookiepedia labels:\", len(df[df['declared_label'].notnull()]), len(df[df['declared_label'].notnull()])/len(df) * 100, \"%\")"
   ]
  },
  {
   "cell_type": "markdown",
   "id": "typical-currency",
   "metadata": {},
   "source": [
    "We then look at the label distribution for each method. "
   ]
  },
  {
   "cell_type": "code",
   "execution_count": 7,
   "id": "strange-command",
   "metadata": {},
   "outputs": [],
   "source": [
    "#df['setter_label'] = df['setter_label'].apply(lambda x: str(x))\n",
    "df = df[(df['setter'].notnull()) & (df['domain'].notnull())]"
   ]
  },
  {
   "cell_type": "code",
   "execution_count": 8,
   "id": "anonymous-subdivision",
   "metadata": {},
   "outputs": [
    {
     "name": "stdout",
     "output_type": "stream",
     "text": [
      "Setter label distribution\n",
      "True     84419\n",
      "False    29584\n",
      "Name: setter_label, dtype: int64\n",
      "\n",
      "Setter label distribution (%)\n",
      "True     74.049806\n",
      "False    25.950194\n",
      "Name: setter_label, dtype: float64\n",
      "\n",
      "Cookiepedia label distribution\n",
      "3.0    967\n",
      "2.0    886\n",
      "0.0    484\n",
      "1.0    407\n",
      "Name: declared_label, dtype: int64\n",
      "\n",
      "Cookiepedia label distribution (%)\n",
      "3.0    35.240525\n",
      "2.0    32.288630\n",
      "0.0    17.638484\n",
      "1.0    14.832362\n",
      "Name: declared_label, dtype: float64\n",
      "\n",
      "All label distribution\n",
      "Unknown     83762\n",
      "Negative    29274\n",
      "Positive      967\n",
      "Name: label, dtype: int64\n",
      "\n",
      "All label distribution (%)\n",
      "Unknown     73.473505\n",
      "Negative    25.678272\n",
      "Positive     0.848223\n",
      "Name: label, dtype: float64\n"
     ]
    }
   ],
   "source": [
    "print(\"Setter label distribution\")\n",
    "print(df[df['setter_label'].notnull()]['setter_label'].value_counts())\n",
    "print(\"\\nSetter label distribution (%)\")\n",
    "print(df[df['setter_label'].notnull()]['setter_label'].value_counts()/len(df[df['setter_label'].notnull()])*100)\n",
    "print(\"\\nCookiepedia label distribution\")\n",
    "print(df[df['declared_label'].notnull()]['declared_label'].value_counts())\n",
    "print(\"\\nCookiepedia label distribution (%)\")\n",
    "print(df[df['declared_label'].notnull()]['declared_label'].value_counts()/len(df[df['declared_label'].notnull()])*100)\n",
    "print(\"\\nAll label distribution\")\n",
    "print(df['label'].value_counts())\n",
    "print(\"\\nAll label distribution (%)\")\n",
    "print(df['label'].value_counts()/len(df['label'])*100)"
   ]
  },
  {
   "cell_type": "code",
   "execution_count": 9,
   "id": "proprietary-investing",
   "metadata": {},
   "outputs": [
    {
     "name": "stdout",
     "output_type": "stream",
     "text": [
      "Number of non-null: 2744\n",
      "Unknown     1054\n",
      "Positive     967\n",
      "Negative     723\n",
      "Name: label, dtype: int64\n",
      "Unknown     38.411079\n",
      "Positive    35.240525\n",
      "Negative    26.348397\n",
      "Name: label, dtype: float64\n",
      "Unknown     73.473505\n",
      "Negative    25.678272\n",
      "Positive     0.848223\n",
      "Name: label, dtype: float64\n"
     ]
    },
    {
     "name": "stderr",
     "output_type": "stream",
     "text": [
      "<ipython-input-9-e2fa7ed56f7a>:2: SettingWithCopyWarning: \n",
      "A value is trying to be set on a copy of a slice from a DataFrame.\n",
      "Try using .loc[row_indexer,col_indexer] = value instead\n",
      "\n",
      "See the caveats in the documentation: https://pandas.pydata.org/pandas-docs/stable/user_guide/indexing.html#returning-a-view-versus-a-copy\n",
      "  df_analyze['setter_label'] = df_analyze['setter_label'].apply(lambda x: str(x))\n",
      "<ipython-input-9-e2fa7ed56f7a>:7: SettingWithCopyWarning: \n",
      "A value is trying to be set on a copy of a slice from a DataFrame.\n",
      "Try using .loc[row_indexer,col_indexer] = value instead\n",
      "\n",
      "See the caveats in the documentation: https://pandas.pydata.org/pandas-docs/stable/user_guide/indexing.html#returning-a-view-versus-a-copy\n",
      "  df_analyze['declared_label_process'] = df_analyze['declared_label'].apply(lambda x: 'True' if x==3 else 'False')\n"
     ]
    }
   ],
   "source": [
    "df_analyze = df[(df['setter_label'].notnull()) & (df['declared_label'].notnull())]\n",
    "df_analyze['setter_label'] = df_analyze['setter_label'].apply(lambda x: str(x))\n",
    "print(\"Number of non-null:\", len(df_analyze))\n",
    "print(df_analyze['label'].value_counts())\n",
    "print(df_analyze['label'].value_counts()/len(df_analyze)*100)\n",
    "print(df['label'].value_counts()/len(df)*100)\n",
    "df_analyze['declared_label_process'] = df_analyze['declared_label'].apply(lambda x: 'True' if x==3 else 'False')\n",
    "mat = confusion_matrix(df_analyze['setter_label'], df_analyze['declared_label_process'], labels=['True', 'False'])"
   ]
  },
  {
   "cell_type": "markdown",
   "id": "extra-trial",
   "metadata": {},
   "source": [
    "Distribution of predictions by both methods. \n",
    "\n",
    "- We see that ~43% of the labels have agreement with both methods. \n",
    "- Large fraction (~55%) is predicted true by setter but false by Cookiepedia (19% is actually unknown). So, we have self declared non-ads that would be marked as ad by setter method.\n",
    "- A very small fraction (~1%) is predicted by setter as non-ATS, but Cookiepedia as ATS. This is an actual conflict for us since we rely on these labels for the final label. We opt to give precedence to the Cookiepedia label."
   ]
  },
  {
   "cell_type": "code",
   "execution_count": 10,
   "id": "broad-photography",
   "metadata": {},
   "outputs": [
    {
     "name": "stdout",
     "output_type": "stream",
     "text": [
      "Both predicted ATS: 657 23.943148688046648\n",
      "Both predicted Non-ATS: 723 26.348396501457728\n",
      "Setter predicted ATS, Cookiepedia predicted Non-ATS: 1054 38.411078717201164 Of which Unknown category: 1711 62.35422740524781\n",
      "Setter predicted Non-ATS, Cookiepedia predicted ATS: 310 11.29737609329446\n"
     ]
    }
   ],
   "source": [
    "print(\"Both predicted ATS:\", mat[0][0], mat[0][0]/len(df_analyze)*100)\n",
    "print(\"Both predicted Non-ATS:\", mat[1][1], mat[1][1]/len(df_analyze)*100)\n",
    "unknown_cookiepedia = df_analyze[(df_analyze['setter_label'] == 'True')]\n",
    "print(\"Setter predicted ATS, Cookiepedia predicted Non-ATS:\", mat[0][1], mat[0][1]/len(df_analyze)*100, \n",
    "      \"Of which Unknown category:\", len(unknown_cookiepedia), len(unknown_cookiepedia)/len(df_analyze)*100)\n",
    "print(\"Setter predicted Non-ATS, Cookiepedia predicted ATS:\", mat[1][0], mat[1][0]/len(df_analyze)*100)"
   ]
  },
  {
   "cell_type": "code",
   "execution_count": 11,
   "id": "impossible-brunswick",
   "metadata": {},
   "outputs": [],
   "source": [
    "def check_same_setter(df):\n",
    "    \n",
    "    cookiepedia_labels = df['declared_label'].unique()\n",
    "    cookiepedia_labels = [str(x) for x in cookiepedia_labels]\n",
    "    categories = \"||\".join(cookiepedia_labels)\n",
    "    df_proc = pd.DataFrame({'num_labels' : [len(cookiepedia_labels)], 'categories' : [categories]})\n",
    "    return df_proc\n",
    "\n",
    "df_samesetter = df_analyze.groupby(['visit_id', 'setter'], as_index=False).apply(check_same_setter)"
   ]
  },
  {
   "cell_type": "code",
   "execution_count": 12,
   "id": "selective-highlight",
   "metadata": {},
   "outputs": [
    {
     "name": "stdout",
     "output_type": "stream",
     "text": [
      "Same setter, multiple labels: 176 14.285714285714285\n"
     ]
    }
   ],
   "source": [
    "print(\"Same setter, multiple labels:\", len(df_samesetter[df_samesetter['num_labels'] > 1]), \n",
    "      len(df_samesetter[df_samesetter['num_labels'] > 1])/len(df_samesetter) * 100)"
   ]
  },
  {
   "cell_type": "code",
   "execution_count": 111,
   "id": "cloudy-strap",
   "metadata": {},
   "outputs": [
    {
     "data": {
      "text/plain": [
       "array(['2.0||3.0', '0.0||3.0', '3.0||1.0', '2.0||1.0', '2.0||0.0',\n",
       "       '0.0||1.0', '3.0||2.0', '1.0||3.0', '1.0||2.0', '1.0||0.0',\n",
       "       '3.0||0.0', '0.0||2.0'], dtype=object)"
      ]
     },
     "execution_count": 111,
     "metadata": {},
     "output_type": "execute_result"
    }
   ],
   "source": [
    "df_samesetter[df_samesetter['num_labels'] == 2]['categories'].unique()"
   ]
  },
  {
   "cell_type": "markdown",
   "id": "continuing-roots",
   "metadata": {},
   "source": [
    "## Resolve conflicts"
   ]
  },
  {
   "cell_type": "code",
   "execution_count": 13,
   "id": "cardiovascular-gospel",
   "metadata": {},
   "outputs": [],
   "source": [
    "#check common scripts\n",
    "#Input is common.json -- which you get from find_common_scripts.py\n",
    "with open(\"common.json\") as f:\n",
    "    common_data = json.loads(f.read())"
   ]
  },
  {
   "cell_type": "code",
   "execution_count": 14,
   "id": "american-simpson",
   "metadata": {},
   "outputs": [],
   "source": [
    "common_data_rev = {}\n",
    "for k, v in common_data.items():\n",
    "    for url in v:\n",
    "        common_data_rev[url] = k"
   ]
  },
  {
   "cell_type": "code",
   "execution_count": 23,
   "id": "urban-smooth",
   "metadata": {},
   "outputs": [],
   "source": [
    "# Get the hash of the script's content\n",
    "df['setter_hash'] = df['setter'].apply(lambda x: common_data_rev.get(x))"
   ]
  },
  {
   "cell_type": "code",
   "execution_count": 24,
   "id": "solved-upgrade",
   "metadata": {},
   "outputs": [],
   "source": [
    "df_setterhash = df[df['setter_hash'].notnull()]"
   ]
  },
  {
   "cell_type": "code",
   "execution_count": 37,
   "id": "printable-curtis",
   "metadata": {
    "scrolled": true
   },
   "outputs": [
    {
     "name": "stderr",
     "output_type": "stream",
     "text": [
      "<ipython-input-37-f45bacc410f1>:24: SettingWithCopyWarning: \n",
      "A value is trying to be set on a copy of a slice from a DataFrame.\n",
      "Try using .loc[row_indexer,col_indexer] = value instead\n",
      "\n",
      "See the caveats in the documentation: https://pandas.pydata.org/pandas-docs/stable/user_guide/indexing.html#returning-a-view-versus-a-copy\n",
      "  df_setterhash['split_name'] = df_setterhash['name'].apply(lambda x : x.split('|$$|')[0])\n"
     ]
    }
   ],
   "source": [
    "def check_conflict(df):\n",
    "    \n",
    "    labels = df['label'].unique()\n",
    "    #df_common = pd.DataFrame(columns=['conflict', 'num', 'setter_hash', 'name'])\n",
    "    data = ('NA', len(df), df['setter_hash'].iloc[0], df['split_name'].iloc[0])\n",
    "    if len(labels) > 1:\n",
    "        #print(len(df))\n",
    "        if len(labels) == 3:\n",
    "            tag = \"PNU\"\n",
    "        else:\n",
    "            if ('Positive' in labels) and ('Negative' in labels):\n",
    "                tag = \"PN\"\n",
    "            if ('Positive' in labels) and ('Unknown' in labels):\n",
    "                tag = \"PU\"\n",
    "            if ('Unknown' in labels) and ('Negative' in labels):\n",
    "                tag = \"NU\" \n",
    "        #df_common = pd.DataFrame([[tag, len(df), df['setter_hash'].iloc[0], df['name'].iloc[0]]], \n",
    "        #                         columns=['conflict', 'num', 'setter_hash', 'name'])\n",
    "        data = (tag, len(df), df['setter_hash'].iloc[0], df['split_name'].iloc[0])\n",
    "    return data\n",
    "\n",
    "#Get split name (just cookie name without domain)\n",
    "# Check conflicts -- all cookies with same name and same setter hash should have one label\n",
    "df_setterhash['split_name'] = df_setterhash['name'].apply(lambda x : x.split('|$$|')[0])\n",
    "df_common = df_setterhash.groupby(['setter_hash', 'split_name']).apply(check_conflict).reset_index()"
   ]
  },
  {
   "cell_type": "code",
   "execution_count": 38,
   "id": "neutral-pledge",
   "metadata": {
    "scrolled": false
   },
   "outputs": [],
   "source": [
    "col_data = df_common[0].tolist()\n",
    "df_conflict = pd.DataFrame(col_data, columns=['conflict', 'num', 'setter_hash', 'split_name'])"
   ]
  },
  {
   "cell_type": "code",
   "execution_count": 39,
   "id": "grave-chair",
   "metadata": {},
   "outputs": [
    {
     "data": {
      "text/html": [
       "<div>\n",
       "<style scoped>\n",
       "    .dataframe tbody tr th:only-of-type {\n",
       "        vertical-align: middle;\n",
       "    }\n",
       "\n",
       "    .dataframe tbody tr th {\n",
       "        vertical-align: top;\n",
       "    }\n",
       "\n",
       "    .dataframe thead th {\n",
       "        text-align: right;\n",
       "    }\n",
       "</style>\n",
       "<table border=\"1\" class=\"dataframe\">\n",
       "  <thead>\n",
       "    <tr style=\"text-align: right;\">\n",
       "      <th></th>\n",
       "      <th>conflict</th>\n",
       "      <th>num</th>\n",
       "      <th>setter_hash</th>\n",
       "      <th>split_name</th>\n",
       "    </tr>\n",
       "  </thead>\n",
       "  <tbody>\n",
       "    <tr>\n",
       "      <th>0</th>\n",
       "      <td>NA</td>\n",
       "      <td>1</td>\n",
       "      <td>0000e233d9267d6cd789c2a02da90577b0683152</td>\n",
       "      <td>_cc_aud</td>\n",
       "    </tr>\n",
       "    <tr>\n",
       "      <th>1</th>\n",
       "      <td>NA</td>\n",
       "      <td>1</td>\n",
       "      <td>0000e233d9267d6cd789c2a02da90577b0683152</td>\n",
       "      <td>_cc_cc</td>\n",
       "    </tr>\n",
       "    <tr>\n",
       "      <th>2</th>\n",
       "      <td>NA</td>\n",
       "      <td>1</td>\n",
       "      <td>0000e233d9267d6cd789c2a02da90577b0683152</td>\n",
       "      <td>_cc_id</td>\n",
       "    </tr>\n",
       "    <tr>\n",
       "      <th>3</th>\n",
       "      <td>NA</td>\n",
       "      <td>1</td>\n",
       "      <td>0000e233d9267d6cd789c2a02da90577b0683152</td>\n",
       "      <td>lotame_domain_check</td>\n",
       "    </tr>\n",
       "    <tr>\n",
       "      <th>4</th>\n",
       "      <td>NA</td>\n",
       "      <td>4</td>\n",
       "      <td>0002262b6660ce3ab3818580518392583bd9376f</td>\n",
       "      <td>cookietest</td>\n",
       "    </tr>\n",
       "    <tr>\n",
       "      <th>...</th>\n",
       "      <td>...</td>\n",
       "      <td>...</td>\n",
       "      <td>...</td>\n",
       "      <td>...</td>\n",
       "    </tr>\n",
       "    <tr>\n",
       "      <th>43071</th>\n",
       "      <td>NU</td>\n",
       "      <td>5</td>\n",
       "      <td>fff5c3eb7242f7a5881562864635c2e4080c7338</td>\n",
       "      <td>wickedfu_null</td>\n",
       "    </tr>\n",
       "    <tr>\n",
       "      <th>43072</th>\n",
       "      <td>NA</td>\n",
       "      <td>1</td>\n",
       "      <td>fffbaf93db0068475473c759caffb3d294adaec2</td>\n",
       "      <td>_shopify_y</td>\n",
       "    </tr>\n",
       "    <tr>\n",
       "      <th>43073</th>\n",
       "      <td>NA</td>\n",
       "      <td>1</td>\n",
       "      <td>fffbaf93db0068475473c759caffb3d294adaec2</td>\n",
       "      <td>_y</td>\n",
       "    </tr>\n",
       "    <tr>\n",
       "      <th>43074</th>\n",
       "      <td>NA</td>\n",
       "      <td>1</td>\n",
       "      <td>fffbaf93db0068475473c759caffb3d294adaec2</td>\n",
       "      <td>cart_currency</td>\n",
       "    </tr>\n",
       "    <tr>\n",
       "      <th>43075</th>\n",
       "      <td>NA</td>\n",
       "      <td>1</td>\n",
       "      <td>fffbaf93db0068475473c759caffb3d294adaec2</td>\n",
       "      <td>localization</td>\n",
       "    </tr>\n",
       "  </tbody>\n",
       "</table>\n",
       "<p>43076 rows × 4 columns</p>\n",
       "</div>"
      ],
      "text/plain": [
       "      conflict  num                               setter_hash  \\\n",
       "0           NA    1  0000e233d9267d6cd789c2a02da90577b0683152   \n",
       "1           NA    1  0000e233d9267d6cd789c2a02da90577b0683152   \n",
       "2           NA    1  0000e233d9267d6cd789c2a02da90577b0683152   \n",
       "3           NA    1  0000e233d9267d6cd789c2a02da90577b0683152   \n",
       "4           NA    4  0002262b6660ce3ab3818580518392583bd9376f   \n",
       "...        ...  ...                                       ...   \n",
       "43071       NU    5  fff5c3eb7242f7a5881562864635c2e4080c7338   \n",
       "43072       NA    1  fffbaf93db0068475473c759caffb3d294adaec2   \n",
       "43073       NA    1  fffbaf93db0068475473c759caffb3d294adaec2   \n",
       "43074       NA    1  fffbaf93db0068475473c759caffb3d294adaec2   \n",
       "43075       NA    1  fffbaf93db0068475473c759caffb3d294adaec2   \n",
       "\n",
       "                split_name  \n",
       "0                  _cc_aud  \n",
       "1                   _cc_cc  \n",
       "2                   _cc_id  \n",
       "3      lotame_domain_check  \n",
       "4               cookietest  \n",
       "...                    ...  \n",
       "43071        wickedfu_null  \n",
       "43072           _shopify_y  \n",
       "43073                   _y  \n",
       "43074        cart_currency  \n",
       "43075         localization  \n",
       "\n",
       "[43076 rows x 4 columns]"
      ]
     },
     "execution_count": 39,
     "metadata": {},
     "output_type": "execute_result"
    }
   ],
   "source": [
    "df_conflict"
   ]
  },
  {
   "cell_type": "code",
   "execution_count": 40,
   "id": "desperate-texture",
   "metadata": {
    "scrolled": false
   },
   "outputs": [],
   "source": [
    "df_change = df_setterhash.merge(df_conflict, on=['split_name', 'setter_hash'])"
   ]
  },
  {
   "cell_type": "code",
   "execution_count": 41,
   "id": "directed-playlist",
   "metadata": {},
   "outputs": [],
   "source": [
    "def change_label(row):\n",
    "    cur_label = row['label']\n",
    "    conflict = row['conflict']\n",
    "    if conflict == 'PU':\n",
    "        return 'Positive'\n",
    "    elif conflict == 'PN':\n",
    "        return 'Positive'\n",
    "    elif conflict == 'PNU':\n",
    "        return 'Positive'\n",
    "    elif conflict == 'NU':\n",
    "        return 'Unknown'\n",
    "    return cur_label\n",
    "\n",
    "#Update labels based on conflict label\n",
    "df_change['new_label'] = df_change.apply(change_label, axis=1)"
   ]
  },
  {
   "cell_type": "code",
   "execution_count": 42,
   "id": "passive-sociology",
   "metadata": {},
   "outputs": [
    {
     "data": {
      "text/html": [
       "<div>\n",
       "<style scoped>\n",
       "    .dataframe tbody tr th:only-of-type {\n",
       "        vertical-align: middle;\n",
       "    }\n",
       "\n",
       "    .dataframe tbody tr th {\n",
       "        vertical-align: top;\n",
       "    }\n",
       "\n",
       "    .dataframe thead th {\n",
       "        text-align: right;\n",
       "    }\n",
       "</style>\n",
       "<table border=\"1\" class=\"dataframe\">\n",
       "  <thead>\n",
       "    <tr style=\"text-align: right;\">\n",
       "      <th></th>\n",
       "      <th>Unnamed: 0</th>\n",
       "      <th>visit_id</th>\n",
       "      <th>name</th>\n",
       "      <th>setter</th>\n",
       "      <th>top_level_domain</th>\n",
       "      <th>setter_domain</th>\n",
       "      <th>resource_type</th>\n",
       "      <th>setter_label</th>\n",
       "      <th>domain</th>\n",
       "      <th>declared_label</th>\n",
       "      <th>label</th>\n",
       "      <th>setter_hash</th>\n",
       "      <th>split_name</th>\n",
       "      <th>conflict</th>\n",
       "      <th>num</th>\n",
       "      <th>new_label</th>\n",
       "    </tr>\n",
       "  </thead>\n",
       "  <tbody>\n",
       "    <tr>\n",
       "      <th>0</th>\n",
       "      <td>0</td>\n",
       "      <td>1.806962e+13</td>\n",
       "      <td>_chartbeat2|$$|infobae.com</td>\n",
       "      <td>https://static.chartbeat.com/js/chartbeat.js</td>\n",
       "      <td>infobae.com</td>\n",
       "      <td>chartbeat.com</td>\n",
       "      <td>script</td>\n",
       "      <td>True</td>\n",
       "      <td>infobae.com</td>\n",
       "      <td>NaN</td>\n",
       "      <td>Unknown</td>\n",
       "      <td>6671bac67dd759b8a8e6e71fdfe05edda4555791</td>\n",
       "      <td>_chartbeat2</td>\n",
       "      <td>PU</td>\n",
       "      <td>78</td>\n",
       "      <td>Positive</td>\n",
       "    </tr>\n",
       "    <tr>\n",
       "      <th>1</th>\n",
       "      <td>0</td>\n",
       "      <td>1.754110e+15</td>\n",
       "      <td>_chartbeat2|$$|hobbyconsolas.com</td>\n",
       "      <td>https://static.chartbeat.com/js/chartbeat.js</td>\n",
       "      <td>hobbyconsolas.com</td>\n",
       "      <td>chartbeat.com</td>\n",
       "      <td>script</td>\n",
       "      <td>True</td>\n",
       "      <td>hobbyconsolas.com</td>\n",
       "      <td>NaN</td>\n",
       "      <td>Unknown</td>\n",
       "      <td>6671bac67dd759b8a8e6e71fdfe05edda4555791</td>\n",
       "      <td>_chartbeat2</td>\n",
       "      <td>PU</td>\n",
       "      <td>78</td>\n",
       "      <td>Positive</td>\n",
       "    </tr>\n",
       "    <tr>\n",
       "      <th>2</th>\n",
       "      <td>0</td>\n",
       "      <td>4.381966e+15</td>\n",
       "      <td>_chartbeat2|$$|delivery.com</td>\n",
       "      <td>https://static.chartbeat.com/js/chartbeat.js</td>\n",
       "      <td>delivery.com</td>\n",
       "      <td>chartbeat.com</td>\n",
       "      <td>script</td>\n",
       "      <td>True</td>\n",
       "      <td>delivery.com</td>\n",
       "      <td>NaN</td>\n",
       "      <td>Unknown</td>\n",
       "      <td>6671bac67dd759b8a8e6e71fdfe05edda4555791</td>\n",
       "      <td>_chartbeat2</td>\n",
       "      <td>PU</td>\n",
       "      <td>78</td>\n",
       "      <td>Positive</td>\n",
       "    </tr>\n",
       "    <tr>\n",
       "      <th>3</th>\n",
       "      <td>3</td>\n",
       "      <td>6.139050e+15</td>\n",
       "      <td>_chartbeat2|$$|eleconomistaamerica.co</td>\n",
       "      <td>https://static.chartbeat.com/js/chartbeat.js</td>\n",
       "      <td>eleconomistaamerica.co</td>\n",
       "      <td>chartbeat.com</td>\n",
       "      <td>script</td>\n",
       "      <td>True</td>\n",
       "      <td>eleconomistaamerica.co</td>\n",
       "      <td>NaN</td>\n",
       "      <td>Unknown</td>\n",
       "      <td>6671bac67dd759b8a8e6e71fdfe05edda4555791</td>\n",
       "      <td>_chartbeat2</td>\n",
       "      <td>PU</td>\n",
       "      <td>78</td>\n",
       "      <td>Positive</td>\n",
       "    </tr>\n",
       "    <tr>\n",
       "      <th>4</th>\n",
       "      <td>0</td>\n",
       "      <td>6.334911e+15</td>\n",
       "      <td>_chartbeat2|$$|ritholtz.com</td>\n",
       "      <td>https://static.chartbeat.com/js/chartbeat.js</td>\n",
       "      <td>ritholtz.com</td>\n",
       "      <td>chartbeat.com</td>\n",
       "      <td>script</td>\n",
       "      <td>True</td>\n",
       "      <td>ritholtz.com</td>\n",
       "      <td>NaN</td>\n",
       "      <td>Unknown</td>\n",
       "      <td>6671bac67dd759b8a8e6e71fdfe05edda4555791</td>\n",
       "      <td>_chartbeat2</td>\n",
       "      <td>PU</td>\n",
       "      <td>78</td>\n",
       "      <td>Positive</td>\n",
       "    </tr>\n",
       "    <tr>\n",
       "      <th>...</th>\n",
       "      <td>...</td>\n",
       "      <td>...</td>\n",
       "      <td>...</td>\n",
       "      <td>...</td>\n",
       "      <td>...</td>\n",
       "      <td>...</td>\n",
       "      <td>...</td>\n",
       "      <td>...</td>\n",
       "      <td>...</td>\n",
       "      <td>...</td>\n",
       "      <td>...</td>\n",
       "      <td>...</td>\n",
       "      <td>...</td>\n",
       "      <td>...</td>\n",
       "      <td>...</td>\n",
       "      <td>...</td>\n",
       "    </tr>\n",
       "    <tr>\n",
       "      <th>97493</th>\n",
       "      <td>47</td>\n",
       "      <td>8.033221e+15</td>\n",
       "      <td>localization|$$|flickr.com</td>\n",
       "      <td>https://www.flickr.com/services/developer</td>\n",
       "      <td>flickr.com</td>\n",
       "      <td>flickr.com</td>\n",
       "      <td>main_frame</td>\n",
       "      <td>False</td>\n",
       "      <td>flickr.com</td>\n",
       "      <td>1.0</td>\n",
       "      <td>Negative</td>\n",
       "      <td>4e657ca41aa206100c2264dd46920e0932f3bbbc</td>\n",
       "      <td>localization</td>\n",
       "      <td>PN</td>\n",
       "      <td>2</td>\n",
       "      <td>Positive</td>\n",
       "    </tr>\n",
       "    <tr>\n",
       "      <th>98505</th>\n",
       "      <td>3</td>\n",
       "      <td>9.291492e+14</td>\n",
       "      <td>ckbk|$$|resetdigital.co</td>\n",
       "      <td>https://meta.resetdigital.co/smart?px=1000131&amp;...</td>\n",
       "      <td>resetdigital.co</td>\n",
       "      <td>resetdigital.co</td>\n",
       "      <td>image</td>\n",
       "      <td>False</td>\n",
       "      <td>resetdigital.co</td>\n",
       "      <td>NaN</td>\n",
       "      <td>Negative</td>\n",
       "      <td>0f4e929dd5bb2564f7ab9c76338e04e292a42ace</td>\n",
       "      <td>ckbk</td>\n",
       "      <td>PN</td>\n",
       "      <td>2</td>\n",
       "      <td>Positive</td>\n",
       "    </tr>\n",
       "    <tr>\n",
       "      <th>103867</th>\n",
       "      <td>0</td>\n",
       "      <td>5.194194e+15</td>\n",
       "      <td>crumb|$$|squarespace.com</td>\n",
       "      <td>https://blackbird-crane-d63m.squarespace.com/</td>\n",
       "      <td>squarespace.com</td>\n",
       "      <td>squarespace.com</td>\n",
       "      <td>main_frame</td>\n",
       "      <td>False</td>\n",
       "      <td>squarespace.com</td>\n",
       "      <td>0.0</td>\n",
       "      <td>Negative</td>\n",
       "      <td>7b332a8afb7aa223d64a614f33990e1790ed1a4c</td>\n",
       "      <td>crumb</td>\n",
       "      <td>PN</td>\n",
       "      <td>4</td>\n",
       "      <td>Positive</td>\n",
       "    </tr>\n",
       "    <tr>\n",
       "      <th>103869</th>\n",
       "      <td>2</td>\n",
       "      <td>5.194194e+15</td>\n",
       "      <td>crumb|$$|squarespace.com</td>\n",
       "      <td>https://blackbird-crane-d63m.squarespace.com/</td>\n",
       "      <td>squarespace.com</td>\n",
       "      <td>squarespace.com</td>\n",
       "      <td>main_frame</td>\n",
       "      <td>False</td>\n",
       "      <td>squarespace.com</td>\n",
       "      <td>1.0</td>\n",
       "      <td>Negative</td>\n",
       "      <td>7b332a8afb7aa223d64a614f33990e1790ed1a4c</td>\n",
       "      <td>crumb</td>\n",
       "      <td>PN</td>\n",
       "      <td>4</td>\n",
       "      <td>Positive</td>\n",
       "    </tr>\n",
       "    <tr>\n",
       "      <th>103870</th>\n",
       "      <td>9</td>\n",
       "      <td>5.194194e+15</td>\n",
       "      <td>crumb|$$|squarespace.com</td>\n",
       "      <td>https://blackbird-crane-d63m.squarespace.com/</td>\n",
       "      <td>squarespace.com</td>\n",
       "      <td>squarespace.com</td>\n",
       "      <td>main_frame</td>\n",
       "      <td>False</td>\n",
       "      <td>squarespace.com</td>\n",
       "      <td>NaN</td>\n",
       "      <td>Negative</td>\n",
       "      <td>7b332a8afb7aa223d64a614f33990e1790ed1a4c</td>\n",
       "      <td>crumb</td>\n",
       "      <td>PN</td>\n",
       "      <td>4</td>\n",
       "      <td>Positive</td>\n",
       "    </tr>\n",
       "  </tbody>\n",
       "</table>\n",
       "<p>31874 rows × 16 columns</p>\n",
       "</div>"
      ],
      "text/plain": [
       "        Unnamed: 0      visit_id                                   name  \\\n",
       "0                0  1.806962e+13             _chartbeat2|$$|infobae.com   \n",
       "1                0  1.754110e+15       _chartbeat2|$$|hobbyconsolas.com   \n",
       "2                0  4.381966e+15            _chartbeat2|$$|delivery.com   \n",
       "3                3  6.139050e+15  _chartbeat2|$$|eleconomistaamerica.co   \n",
       "4                0  6.334911e+15            _chartbeat2|$$|ritholtz.com   \n",
       "...            ...           ...                                    ...   \n",
       "97493           47  8.033221e+15             localization|$$|flickr.com   \n",
       "98505            3  9.291492e+14                ckbk|$$|resetdigital.co   \n",
       "103867           0  5.194194e+15               crumb|$$|squarespace.com   \n",
       "103869           2  5.194194e+15               crumb|$$|squarespace.com   \n",
       "103870           9  5.194194e+15               crumb|$$|squarespace.com   \n",
       "\n",
       "                                                   setter  \\\n",
       "0            https://static.chartbeat.com/js/chartbeat.js   \n",
       "1            https://static.chartbeat.com/js/chartbeat.js   \n",
       "2            https://static.chartbeat.com/js/chartbeat.js   \n",
       "3            https://static.chartbeat.com/js/chartbeat.js   \n",
       "4            https://static.chartbeat.com/js/chartbeat.js   \n",
       "...                                                   ...   \n",
       "97493           https://www.flickr.com/services/developer   \n",
       "98505   https://meta.resetdigital.co/smart?px=1000131&...   \n",
       "103867      https://blackbird-crane-d63m.squarespace.com/   \n",
       "103869      https://blackbird-crane-d63m.squarespace.com/   \n",
       "103870      https://blackbird-crane-d63m.squarespace.com/   \n",
       "\n",
       "              top_level_domain    setter_domain resource_type setter_label  \\\n",
       "0                  infobae.com    chartbeat.com        script         True   \n",
       "1            hobbyconsolas.com    chartbeat.com        script         True   \n",
       "2                 delivery.com    chartbeat.com        script         True   \n",
       "3       eleconomistaamerica.co    chartbeat.com        script         True   \n",
       "4                 ritholtz.com    chartbeat.com        script         True   \n",
       "...                        ...              ...           ...          ...   \n",
       "97493               flickr.com       flickr.com    main_frame        False   \n",
       "98505          resetdigital.co  resetdigital.co         image        False   \n",
       "103867         squarespace.com  squarespace.com    main_frame        False   \n",
       "103869         squarespace.com  squarespace.com    main_frame        False   \n",
       "103870         squarespace.com  squarespace.com    main_frame        False   \n",
       "\n",
       "                        domain  declared_label     label  \\\n",
       "0                  infobae.com             NaN   Unknown   \n",
       "1            hobbyconsolas.com             NaN   Unknown   \n",
       "2                 delivery.com             NaN   Unknown   \n",
       "3       eleconomistaamerica.co             NaN   Unknown   \n",
       "4                 ritholtz.com             NaN   Unknown   \n",
       "...                        ...             ...       ...   \n",
       "97493               flickr.com             1.0  Negative   \n",
       "98505          resetdigital.co             NaN  Negative   \n",
       "103867         squarespace.com             0.0  Negative   \n",
       "103869         squarespace.com             1.0  Negative   \n",
       "103870         squarespace.com             NaN  Negative   \n",
       "\n",
       "                                     setter_hash    split_name conflict  num  \\\n",
       "0       6671bac67dd759b8a8e6e71fdfe05edda4555791   _chartbeat2       PU   78   \n",
       "1       6671bac67dd759b8a8e6e71fdfe05edda4555791   _chartbeat2       PU   78   \n",
       "2       6671bac67dd759b8a8e6e71fdfe05edda4555791   _chartbeat2       PU   78   \n",
       "3       6671bac67dd759b8a8e6e71fdfe05edda4555791   _chartbeat2       PU   78   \n",
       "4       6671bac67dd759b8a8e6e71fdfe05edda4555791   _chartbeat2       PU   78   \n",
       "...                                          ...           ...      ...  ...   \n",
       "97493   4e657ca41aa206100c2264dd46920e0932f3bbbc  localization       PN    2   \n",
       "98505   0f4e929dd5bb2564f7ab9c76338e04e292a42ace          ckbk       PN    2   \n",
       "103867  7b332a8afb7aa223d64a614f33990e1790ed1a4c         crumb       PN    4   \n",
       "103869  7b332a8afb7aa223d64a614f33990e1790ed1a4c         crumb       PN    4   \n",
       "103870  7b332a8afb7aa223d64a614f33990e1790ed1a4c         crumb       PN    4   \n",
       "\n",
       "       new_label  \n",
       "0       Positive  \n",
       "1       Positive  \n",
       "2       Positive  \n",
       "3       Positive  \n",
       "4       Positive  \n",
       "...          ...  \n",
       "97493   Positive  \n",
       "98505   Positive  \n",
       "103867  Positive  \n",
       "103869  Positive  \n",
       "103870  Positive  \n",
       "\n",
       "[31874 rows x 16 columns]"
      ]
     },
     "execution_count": 42,
     "metadata": {},
     "output_type": "execute_result"
    }
   ],
   "source": [
    "df_change[df_change['label'] != df_change['new_label']]"
   ]
  },
  {
   "cell_type": "code",
   "execution_count": 43,
   "id": "blessed-trinidad",
   "metadata": {},
   "outputs": [],
   "source": [
    "#Get all entries without a setter hash\n",
    "df_nullsh = df[~df['setter_hash'].notnull()]"
   ]
  },
  {
   "cell_type": "code",
   "execution_count": 44,
   "id": "invisible-calvin",
   "metadata": {},
   "outputs": [],
   "source": [
    "df_change = df_change.drop(columns=['conflict', 'num'])"
   ]
  },
  {
   "cell_type": "code",
   "execution_count": 45,
   "id": "innovative-lexington",
   "metadata": {},
   "outputs": [
    {
     "name": "stderr",
     "output_type": "stream",
     "text": [
      "<ipython-input-45-133f152f1339>:1: SettingWithCopyWarning: \n",
      "A value is trying to be set on a copy of a slice from a DataFrame.\n",
      "Try using .loc[row_indexer,col_indexer] = value instead\n",
      "\n",
      "See the caveats in the documentation: https://pandas.pydata.org/pandas-docs/stable/user_guide/indexing.html#returning-a-view-versus-a-copy\n",
      "  df_nullsh['new_label'] = df_nullsh['label'].apply(lambda x: x)\n"
     ]
    }
   ],
   "source": [
    "df_nullsh['new_label'] = df_nullsh['label'].apply(lambda x: x)\n",
    "df_combined = pd.concat([df_change, df_nullsh])\n",
    "df_combined = df_combined.drop(columns=['label'])\n",
    "df_combined = df_combined.rename(columns={'new_label' : 'label'})"
   ]
  },
  {
   "cell_type": "code",
   "execution_count": 46,
   "id": "regular-halifax",
   "metadata": {},
   "outputs": [],
   "source": [
    "df_combined.to_pickle(\"newlabels_test.pkl\")"
   ]
  }
 ],
 "metadata": {
  "kernelspec": {
   "display_name": "Python 3",
   "language": "python",
   "name": "python3"
  },
  "language_info": {
   "codemirror_mode": {
    "name": "ipython",
    "version": 3
   },
   "file_extension": ".py",
   "mimetype": "text/x-python",
   "name": "python",
   "nbconvert_exporter": "python",
   "pygments_lexer": "ipython3",
   "version": "3.8.5"
  }
 },
 "nbformat": 4,
 "nbformat_minor": 5
}
